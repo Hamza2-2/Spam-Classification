{
 "cells": [
  {
   "cell_type": "code",
   "execution_count": 1,
   "id": "1355e2c5",
   "metadata": {},
   "outputs": [],
   "source": [
    "#importing packages\n",
    "import pandas as pd\n",
    "import string\n",
    "import nltk\n",
    "import numpy as np\n",
    "from nltk.corpus import stopwords\n",
    "from nltk.tokenize import word_tokenize\n",
    "import matplotlib.pyplot as plt\n",
    "from sklearn.feature_extraction.text import TfidfVectorizer\n",
    "from sklearn.model_selection import train_test_split\n",
    "from sklearn.naive_bayes import ComplementNB\n",
    "from sklearn.metrics import accuracy_score, precision_score, recall_score, f1_score, confusion_matrix, classification_report\n",
    "import seaborn as sns\n",
    "import joblib"
   ]
  },
  {
   "cell_type": "code",
   "execution_count": 2,
   "id": "6672fe12",
   "metadata": {},
   "outputs": [
    {
     "name": "stderr",
     "output_type": "stream",
     "text": [
      "[nltk_data] Downloading package stopwords to /root/nltk_data...\n",
      "[nltk_data]   Package stopwords is already up-to-date!\n",
      "[nltk_data] Downloading package punkt to /root/nltk_data...\n",
      "[nltk_data]   Package punkt is already up-to-date!\n"
     ]
    },
    {
     "data": {
      "text/plain": [
       "True"
      ]
     },
     "execution_count": 2,
     "metadata": {},
     "output_type": "execute_result"
    }
   ],
   "source": [
    "# Download NLTK data\n",
    "nltk.download('stopwords')\n",
    "nltk.download('punkt')"
   ]
  },
  {
   "cell_type": "code",
   "execution_count": 3,
   "id": "b69a78b6",
   "metadata": {},
   "outputs": [
    {
     "name": "stdout",
     "output_type": "stream",
     "text": [
      "Dataset loaded successfully.\n",
      "Dataset preview:\n",
      "   label                                            message\n",
      "0   ham  Go until jurong point, crazy.. Available only ...\n",
      "1   ham                      Ok lar... Joking wif u oni...\n",
      "2  spam  Free entry in 2 a wkly comp to win FA Cup fina...\n",
      "3   ham  U dun say so early hor... U c already then say...\n",
      "4   ham  Nah I don't think he goes to usf, he lives aro...\n"
     ]
    }
   ],
   "source": [
    "#dataset loading\n",
    "\n",
    "df = pd.read_csv('/root/gpu_project/NLP-assignment-2/spam.csv', encoding='latin-1')\n",
    "\n",
    "#keeping required columns only and renaming them\n",
    "df = df[['v1', 'v2']]\n",
    "df.columns = ['label', 'message']\n",
    "\n",
    "print(\"Dataset loaded successfully.\")\n",
    "print(\"Dataset preview:\\n\", df.head())"
   ]
  },
  {
   "cell_type": "code",
   "execution_count": 4,
   "id": "b5419d72",
   "metadata": {},
   "outputs": [
    {
     "name": "stdout",
     "output_type": "stream",
     "text": [
      "Dataset preview after cleaning:\n",
      "   label                                            message  \\\n",
      "0   ham  Go until jurong point, crazy.. Available only ...   \n",
      "1   ham                      Ok lar... Joking wif u oni...   \n",
      "2  spam  Free entry in 2 a wkly comp to win FA Cup fina...   \n",
      "3   ham  U dun say so early hor... U c already then say...   \n",
      "4   ham  Nah I don't think he goes to usf, he lives aro...   \n",
      "\n",
      "                                       clean_message  \n",
      "0  go jurong point crazy available bugis n great ...  \n",
      "1                            ok lar joking wif u oni  \n",
      "2  free entry 2 wkly comp win fa cup final tkts 2...  \n",
      "3                u dun say early hor u c already say  \n",
      "4             nah think goes usf lives around though  \n"
     ]
    }
   ],
   "source": [
    "# text preprocessing\n",
    "def preprocess_text(text):\n",
    "    \"\"\"\n",
    "    1. convert text to lowercase.\n",
    "    2. tokenize the text.\n",
    "    3. remove punctuation.\n",
    "    4. remove stopwords.\n",
    "    5. return a clean list of words.\n",
    "    \"\"\"\n",
    "    \n",
    "    # 1. Lowercase\n",
    "    text = text.lower()\n",
    "\n",
    "    # 2. Tokenize\n",
    "    tokens = word_tokenize(text)\n",
    "\n",
    "    # 3. remove punctuation and non-alphanumeric characters\n",
    "    words = [word for word in tokens if word.isalnum()]\n",
    "\n",
    "    # 4. remove stopwords\n",
    "    stop_words = set(stopwords.words('english'))\n",
    "    clean_words = [word for word in words if word not in stop_words]\n",
    "\n",
    "    # join the words into single string\n",
    "    return \" \".join(clean_words)\n",
    "\n",
    "# apply function to 'message' column\n",
    "df['clean_message'] = df['message'].apply(preprocess_text)\n",
    " \n",
    "print(\"Dataset preview after cleaning:\\n\", df.head())\n"
   ]
  },
  {
   "cell_type": "code",
   "execution_count": null,
   "id": "2dff1fd4",
   "metadata": {},
   "outputs": [],
   "source": [
    "# Feature Extraction using TF-IDF\n",
    "\n",
    "# initialize TfidfVectorizer object to convert text into a matrix of TF-IDF features.\n",
    "vectorizer = TfidfVectorizer()\n",
    "\n",
    "X = vectorizer.fit_transform(df['clean_message'])\n",
    "# convert 'label' column to numerical values (spam=1, ham=0)\n",
    "y = df['label'].map({'spam': 1, 'ham': 0})\n",
    " \n"
   ]
  },
  {
   "cell_type": "code",
   "execution_count": 6,
   "id": "b94dc5f5",
   "metadata": {},
   "outputs": [
    {
     "name": "stdout",
     "output_type": "stream",
     "text": [
      "training complete.\n"
     ]
    }
   ],
   "source": [
    "# training navie bayes model\n",
    "\n",
    "# split data into training, esting sets (80% train, 20% test)\n",
    "X_train, X_test, y_train, y_test = train_test_split(X, y, test_size=0.2, random_state=42)\n",
    "\n",
    "# initialize and train the Complement Naïve Bayes classifier\n",
    "model = ComplementNB()\n",
    "model.fit(X_train, y_train)\n",
    "print(\"training complete.\")\n",
    " "
   ]
  },
  {
   "cell_type": "code",
   "execution_count": 7,
   "id": "55c2eea6",
   "metadata": {},
   "outputs": [],
   "source": [
    "# model evaluation \n",
    "# Make predictions on the test set\n",
    "y_pred = model.predict(X_test)"
   ]
  },
  {
   "cell_type": "code",
   "execution_count": 8,
   "id": "6f4e87bf",
   "metadata": {},
   "outputs": [
    {
     "name": "stdout",
     "output_type": "stream",
     "text": [
      "\n",
      "--- Model Evaluation Results ---\n",
      "Accuracy:  0.9211\n",
      "Precision: 0.6462\n",
      "Recall:    0.9133\n",
      "F1-Score:  0.7569\n"
     ]
    }
   ],
   "source": [
    "# metrics calculation\n",
    "accuracy = accuracy_score(y_test, y_pred)\n",
    "precision = precision_score(y_test, y_pred)\n",
    "recall = recall_score(y_test, y_pred)\n",
    "f1 = f1_score(y_test, y_pred)\n",
    "\n",
    "print(\"\\n--- Model Evaluation Results ---\")\n",
    "print(f\"Accuracy:  {accuracy:.4f}\")\n",
    "print(f\"Precision: {precision:.4f}\")\n",
    "print(f\"Recall:    {recall:.4f}\")\n",
    "print(f\"F1-Score:  {f1:.4f}\")\n",
    "\n",
    " "
   ]
  },
  {
   "cell_type": "code",
   "execution_count": null,
   "id": "25a3fd64",
   "metadata": {},
   "outputs": [
    {
     "name": "stdout",
     "output_type": "stream",
     "text": [
      "\n",
      "Confusion Matrix:\n"
     ]
    },
    {
     "data": {
      "image/png": "[encoded data removed]",
      "text/plain": [
       "<Figure size 700x500 with 2 Axes>"
      ]
     },
     "metadata": {},
     "output_type": "display_data"
    }
   ],
   "source": [
    "# confusion matrix\n",
    "print(\"\\nConfusion Matrix:\") \n",
    "\n",
    "cm_tfidf = confusion_matrix(y_test, y_pred)\n",
    "\n",
    "# Plot confusion matrices\n",
    "fig, axes = plt.subplots(figsize=(7, 5))\n",
    "\n",
    "# Tf-idf Confusion Matrix  \n",
    "sns.heatmap(cm_tfidf, annot=True, fmt='d', cmap='Blues', ax=axes,\n",
    "            xticklabels=np.unique(y), yticklabels=np.unique(y))\n",
    "axes.set_title('Confusion Matrix - Tf-idf', fontsize=14, fontweight='bold')\n",
    "axes.set_xlabel('Predicted Label', fontsize=12)\n",
    "axes.set_ylabel('True Label', fontsize=12)\n",
    "plt.tight_layout()\n",
    "plt.savefig('confusion_matrices.png', dpi=300, bbox_inches='tight')\n",
    "plt.show()"
   ]
  },
  {
   "cell_type": "code",
   "execution_count": 15,
   "id": "7e6d08d7",
   "metadata": {},
   "outputs": [
    {
     "name": "stdout",
     "output_type": "stream",
     "text": [
      "\n",
      "Classification Report for Tf-Idf:\n",
      "              precision    recall  f1-score   support\n",
      "\n",
      "         Ham       0.99      0.92      0.95       965\n",
      "        Spam       0.65      0.91      0.76       150\n",
      "\n",
      "    accuracy                           0.92      1115\n",
      "   macro avg       0.82      0.92      0.85      1115\n",
      "weighted avg       0.94      0.92      0.93      1115\n",
      "\n"
     ]
    }
   ],
   "source": [
    "# Classification report for Tf-Idf\n",
    "print(\"\\nClassification Report for Tf-Idf:\")\n",
    "print(classification_report(y_test, y_pred, target_names=['Ham', 'Spam']))\n",
    "\n"
   ]
  },
  {
   "cell_type": "code",
   "execution_count": null,
   "id": "ac90a585",
   "metadata": {},
   "outputs": [
    {
     "name": "stdout",
     "output_type": "stream",
     "text": [
      "Model files saved successfully.\n"
     ]
    }
   ],
   "source": [
    "#model file saving for future use \n",
    "joblib.dump(model, '/root/gpu_project/NLP-assignment-2/tf-idf-model-files/nb_complement_model.joblib')\n",
    "\n",
    "# saving the tf-idf vectorizer\n",
    "joblib.dump(vectorizer, '/root/gpu_project/NLP-assignment-2/tf-idf-model-files/nb_complement_vectorizer.joblib')\n",
    "print(\"Model files saved successfully.\")\n",
    " "
   ]
  },
  {
   "cell_type": "code",
   "execution_count": 17,
   "id": "416c1dcc",
   "metadata": {},
   "outputs": [],
   "source": [
    "# test with new text \n",
    "def predict_message(message):\n",
    "    \"\"\"Predicts if a new message is spam or ham.\"\"\"\n",
    "    clean_message = preprocess_text(message)\n",
    "    message_vector = vectorizer.transform([clean_message])\n",
    "    prediction = model.predict(message_vector)\n",
    "    return \"Spam\" if prediction[0] == 1 else \"Ham\""
   ]
  },
  {
   "cell_type": "code",
   "execution_count": 13,
   "id": "fe84d45d",
   "metadata": {},
   "outputs": [
    {
     "name": "stdout",
     "output_type": "stream",
     "text": [
      "\n",
      "--- Testing with new messages ---\n",
      "Message: 'Congratulations! You have won a car in lucky draw at jeeto Pakistan.'\n",
      "Prediction: Spam\n",
      "\n",
      "Message: 'Hey, are we still on for the meeting tomorrow at Savour foods?'\n",
      "Prediction: Ham\n"
     ]
    }
   ],
   "source": [
    "# example test- unseen values\n",
    "print(\"\\n--- Testing with new messages ---\")\n",
    "test_message_1 = \"Congratulations! You have won a car in lucky draw at jeeto Pakistan.\"\n",
    "print(f\"Message: '{test_message_1}'\")\n",
    "print(f\"Prediction: {predict_message(test_message_1)}\\n\")\n",
    "\n",
    "test_message_2 = \"Hey, are we still on for the meeting tomorrow at Savour foods?\"\n",
    "print(f\"Message: '{test_message_2}'\")\n",
    "print(f\"Prediction: {predict_message(test_message_2)}\")\n",
    "\n"
   ]
  }
 ],
 "metadata": {
  "kernelspec": {
   "display_name": "tf",
   "language": "python",
   "name": "python3"
  },
  "language_info": {
   "codemirror_mode": {
    "name": "ipython",
    "version": 3
   },
   "file_extension": ".py",
   "mimetype": "text/x-python",
   "name": "python",
   "nbconvert_exporter": "python",
   "pygments_lexer": "ipython3",
   "version": "3.9.21"
  }
 },
 "nbformat": 4,
 "nbformat_minor": 5
}
